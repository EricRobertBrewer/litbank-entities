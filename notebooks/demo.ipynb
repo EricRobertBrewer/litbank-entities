{
 "cells": [
  {
   "cell_type": "code",
   "execution_count": 1,
   "id": "6e01e402-3697-4434-8b07-03e979eec055",
   "metadata": {},
   "outputs": [
    {
     "name": "stdout",
     "output_type": "stream",
     "text": [
      "/Users/brewer/Code/UU/CS6390/litbank-entities\n"
     ]
    }
   ],
   "source": [
    "%cd .."
   ]
  },
  {
   "cell_type": "markdown",
   "id": "e1443baf-4958-4e74-bf60-10a8b730dc75",
   "metadata": {},
   "source": [
    "# demo"
   ]
  },
  {
   "cell_type": "code",
   "execution_count": 2,
   "id": "4c95e18b-17e5-43e8-83b0-4752d26ed152",
   "metadata": {},
   "outputs": [
    {
     "name": "stderr",
     "output_type": "stream",
     "text": [
      "2023-02-15 15:17:44.738029: I tensorflow/core/platform/cpu_feature_guard.cc:193] This TensorFlow binary is optimized with oneAPI Deep Neural Network Library (oneDNN) to use the following CPU instructions in performance-critical operations:  AVX2 FMA\n",
      "To enable them in other operations, rebuild TensorFlow with the appropriate compiler flags.\n"
     ]
    }
   ],
   "source": [
    "import operator\n",
    "\n",
    "import ipywidgets as widgets\n",
    "import spacy\n",
    "from IPython.display import display\n",
    "\n",
    "from litbank_entities import extract, litbank, metrics\n",
    "from litbank_entities.model import hmm_recognizer"
   ]
  },
  {
   "cell_type": "markdown",
   "id": "446a9add-669b-4035-b6c1-36bc16c8f19e",
   "metadata": {},
   "source": [
    "## Load data, language utility"
   ]
  },
  {
   "cell_type": "code",
   "execution_count": 3,
   "id": "9443c036-2025-4cfc-887d-0d7a6e648598",
   "metadata": {},
   "outputs": [
    {
     "name": "stdout",
     "output_type": "stream",
     "text": [
      "Train sentences: 8562\n"
     ]
    }
   ],
   "source": [
    "text_sentence_tokens, text_sentence_labels = litbank.get_text_sentence_tokens_labels()\n",
    "sentence_tokens, sentence_labels = litbank.flatten_texts(text_sentence_tokens, text_sentence_labels)\n",
    "assert len(sentence_tokens) == len(sentence_labels)\n",
    "print('Train sentences: {:d}'.format(len(sentence_tokens)))"
   ]
  },
  {
   "cell_type": "code",
   "execution_count": 4,
   "id": "936b65ff-7fdc-4162-a57f-a967bc51c8f0",
   "metadata": {},
   "outputs": [],
   "source": [
    "nlp = spacy.load('en_core_web_sm')"
   ]
  },
  {
   "cell_type": "markdown",
   "id": "c2de3c2f-0ad6-4528-8bb3-f2b804642bce",
   "metadata": {},
   "source": [
    "## Train"
   ]
  },
  {
   "cell_type": "code",
   "execution_count": 5,
   "id": "835896a4-d1f2-43e1-be99-f00be1adae0d",
   "metadata": {},
   "outputs": [
    {
     "data": {
      "application/vnd.jupyter.widget-view+json": {
       "model_id": "ed5475c54a0a46798a608fb9d7b19251",
       "version_major": 2,
       "version_minor": 0
      },
      "text/plain": [
       "Dropdown(description='Model:', index=1, options=('ZeroR (dummy baseline)', 'HMM (Hidden Markov Model using onl…"
      ]
     },
     "metadata": {},
     "output_type": "display_data"
    }
   ],
   "source": [
    "model_options = ['ZeroR (dummy baseline)', 'HMM (Hidden Markov Model using only tokens)']\n",
    "model_names = ['zero', 'hmm']\n",
    "model_option_to_name = {model_options[i]: model_names[i] for i in range(len(model_options))}\n",
    "\n",
    "model_dropdown = widgets.Dropdown(\n",
    "    options=model_options,\n",
    "    value=model_options[-1],\n",
    "    description='Model:',\n",
    "    disabled=False,\n",
    ")\n",
    "display(model_dropdown)"
   ]
  },
  {
   "cell_type": "code",
   "execution_count": 6,
   "id": "034a710d-d44c-4f87-9fee-100d4261bdec",
   "metadata": {},
   "outputs": [
    {
     "name": "stdout",
     "output_type": "stream",
     "text": [
      "Training model... Done.\n"
     ]
    }
   ],
   "source": [
    "print('Training model... ', end='')\n",
    "model = extract.create_model(model_option_to_name[model_dropdown.value])\n",
    "model.train(sentence_tokens, sentence_labels)\n",
    "print('Done.')"
   ]
  },
  {
   "cell_type": "markdown",
   "id": "055881a3-a566-4542-b391-bb435e281088",
   "metadata": {},
   "source": [
    "## Infer"
   ]
  },
  {
   "cell_type": "code",
   "execution_count": 9,
   "id": "5f08c28e-1e82-4700-a706-122ee6cb2fa5",
   "metadata": {},
   "outputs": [
    {
     "data": {
      "application/vnd.jupyter.widget-view+json": {
       "model_id": "a4ec5b3226df4f7d8ecceb710fc46bd1",
       "version_major": 2,
       "version_minor": 0
      },
      "text/plain": [
       "Textarea(value='We have witnessed this morning the distant view a brief full battle of Pearl Harbor and the se…"
      ]
     },
     "metadata": {},
     "output_type": "display_data"
    }
   ],
   "source": [
    "pearl_harbor = \\\n",
    "    'We have witnessed this morning the distant view a brief full battle of Pearl Harbor' \\\n",
    "    ' and the severe bombing of Pearl Harbor by enemy planes, undoubtedly Japanese.\\n' \\\n",
    "    'The city of Honolulu has also been attacked and considerable damage done.'\n",
    "sentence_textarea = widgets.Textarea(\n",
    "    value=pearl_harbor,\n",
    "    placeholder='Sentences separated by newline characters.',\n",
    "    description='Find entities:',\n",
    "    layout={'height': '16em'},\n",
    ")\n",
    "display(sentence_textarea)"
   ]
  },
  {
   "cell_type": "code",
   "execution_count": 10,
   "id": "99d83899-07a7-423c-bc80-749372cc3d72",
   "metadata": {},
   "outputs": [
    {
     "name": "stdout",
     "output_type": "stream",
     "text": [
      "    O We\n",
      "B-ORG have\n",
      "I-ORG witnessed\n",
      "I-ORG this\n",
      "I-ORG morning\n",
      "I-ORG the\n",
      "I-ORG distant\n",
      "I-ORG view\n",
      "I-ORG a\n",
      "I-ORG brief\n",
      "I-ORG full\n",
      "I-ORG battle\n",
      "I-ORG of\n",
      "I-ORG Pearl\n",
      "I-ORG Harbor\n",
      "I-ORG and\n",
      "I-ORG the\n",
      "I-ORG severe\n",
      "I-ORG bombing\n",
      "I-ORG of\n",
      "I-ORG Pearl\n",
      "I-ORG Harbor\n",
      "I-ORG by\n",
      "I-ORG enemy\n",
      "I-ORG planes\n",
      "I-ORG ,\n",
      "I-ORG undoubtedly\n",
      "I-ORG Japanese\n",
      "I-ORG .\n",
      "<END>\n",
      "\n",
      "    O The\n",
      "B-ORG city\n",
      "I-ORG of\n",
      "I-ORG Honolulu\n",
      "I-ORG has\n",
      "I-ORG also\n",
      "I-ORG been\n",
      "I-ORG attacked\n",
      "I-ORG and\n",
      "I-ORG considerable\n",
      "I-ORG damage\n",
      "I-ORG done\n",
      "I-ORG .\n",
      "<END>\n",
      "\n"
     ]
    }
   ],
   "source": [
    "sentence_tokens = [list(nlp(sentence)) for sentence in sentence_textarea.value.split('\\n')]\n",
    "sentence_preds = model.predict(sentence_tokens)\n",
    "for s, tokens in enumerate(sentence_tokens):\n",
    "    preds = sentence_preds[s]\n",
    "    for pred, token in zip(preds, tokens):\n",
    "        print('{:>5} {}'.format(pred[0], token))\n",
    "    print('<END>')\n",
    "    print()"
   ]
  },
  {
   "cell_type": "code",
   "execution_count": null,
   "id": "7f1bb841-7fc0-4c85-8fdd-e0708866bce4",
   "metadata": {},
   "outputs": [],
   "source": []
  }
 ],
 "metadata": {
  "kernelspec": {
   "display_name": "litbank-entities",
   "language": "python",
   "name": "litbank-entities"
  },
  "language_info": {
   "codemirror_mode": {
    "name": "ipython",
    "version": 3
   },
   "file_extension": ".py",
   "mimetype": "text/x-python",
   "name": "python",
   "nbconvert_exporter": "python",
   "pygments_lexer": "ipython3",
   "version": "3.8.0"
  }
 },
 "nbformat": 4,
 "nbformat_minor": 5
}
