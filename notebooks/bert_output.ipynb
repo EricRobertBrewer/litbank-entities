{
 "cells": [
  {
   "cell_type": "code",
   "execution_count": 1,
   "id": "b73d9316-1531-4782-9265-1dd9b68c8815",
   "metadata": {},
   "outputs": [
    {
     "name": "stdout",
     "output_type": "stream",
     "text": [
      "/Users/brewer/Code/UU/CS6390/litbank-entities\n"
     ]
    }
   ],
   "source": [
    "%cd .."
   ]
  },
  {
   "cell_type": "markdown",
   "id": "36b0eaa1-c787-478b-acca-773b434130dd",
   "metadata": {},
   "source": [
    "# bert_output"
   ]
  },
  {
   "cell_type": "code",
   "execution_count": 2,
   "id": "e6f0b893-1559-4acb-a4e2-f93b4cc041bc",
   "metadata": {},
   "outputs": [
    {
     "name": "stderr",
     "output_type": "stream",
     "text": [
      "2023-04-13 12:35:30.344035: I tensorflow/core/platform/cpu_feature_guard.cc:182] This TensorFlow binary is optimized to use available CPU instructions in performance-critical operations.\n",
      "To enable the following instructions: AVX2 FMA, in other operations, rebuild TensorFlow with the appropriate compiler flags.\n",
      "/Users/brewer/Code/UU/CS6390/litbank-entities/venv/lib/python3.8/site-packages/tensorflow_addons/utils/ensure_tf_install.py:53: UserWarning: Tensorflow Addons supports using Python ops for all Tensorflow versions above or equal to 2.9.0 and strictly below 2.12.0 (nightly versions are not supported). \n",
      " The versions of TensorFlow you are currently using is 2.12.0 and is not supported. \n",
      "Some things might work, some things might not.\n",
      "If you were to encounter a bug, do not file an issue.\n",
      "If you want to make sure you're using a tested and supported configuration, either change the TensorFlow version or the TensorFlow Addons's version. \n",
      "You can find the compatibility matrix in TensorFlow Addon's readme:\n",
      "https://github.com/tensorflow/addons\n",
      "  warnings.warn(\n"
     ]
    }
   ],
   "source": [
    "import os\n",
    "\n",
    "import numpy as np\n",
    "\n",
    "from litbank_entities import extract, litbank"
   ]
  },
  {
   "cell_type": "code",
   "execution_count": 3,
   "id": "0677a777-5c2f-40a9-8c6c-74566417c54e",
   "metadata": {},
   "outputs": [
    {
     "data": {
      "text/plain": [
       "376"
      ]
     },
     "execution_count": 3,
     "metadata": {},
     "output_type": "execute_result"
    }
   ],
   "source": [
    "bert_output_dir = os.path.join(extract.OUTPUT_DIR, 'bert')\n",
    "bert_output_fnames = sorted(os.listdir(bert_output_dir))\n",
    "len(bert_output_fnames)"
   ]
  },
  {
   "cell_type": "code",
   "execution_count": 4,
   "id": "6f7c575a-6955-4acd-bb54-0f4300108061",
   "metadata": {},
   "outputs": [
    {
     "data": {
      "text/plain": [
       "['1681342831-instances-FAC-4.txt',\n",
       " '1681342831-params.txt',\n",
       " '1681342831-results.txt']"
      ]
     },
     "execution_count": 4,
     "metadata": {},
     "output_type": "execute_result"
    }
   ],
   "source": [
    "category_fold_output_fnames = np.array(bert_output_fnames[-180:]).reshape(6, 10, 3).tolist()\n",
    "category_fold_output_fnames[1][3]"
   ]
  },
  {
   "cell_type": "code",
   "execution_count": 5,
   "id": "4f5e52e1-d045-4c0e-8e22-7efcd27d2d17",
   "metadata": {},
   "outputs": [
    {
     "data": {
      "text/plain": [
       "array([[0.77877, 0.67979, 0.7252 , 0.85317, 0.74427, 0.79425],\n",
       "       [0.63579, 0.55455, 0.58828, 0.72175, 0.63182, 0.66908],\n",
       "       [0.66693, 0.65698, 0.65429, 0.71067, 0.69903, 0.69671],\n",
       "       [0.5594 , 0.46366, 0.50279, 0.64817, 0.53628, 0.58196],\n",
       "       [0.59817, 0.34602, 0.40734, 0.70674, 0.41716, 0.49134],\n",
       "       [0.05538, 0.03363, 0.0383 , 0.17352, 0.09892, 0.11439]])"
      ]
     },
     "execution_count": 5,
     "metadata": {},
     "output_type": "execute_result"
    }
   ],
   "source": [
    "category_macro_avg = np.zeros((6, 6))\n",
    "for k, fold_output_fnames in enumerate(category_fold_output_fnames):\n",
    "    for fold, output_fnames in enumerate(fold_output_fnames):\n",
    "        timestamp = int(output_fnames[0][:output_fnames[0].index('-')])\n",
    "        assert output_fnames[0] == '{:d}-instances-{}-{:d}.txt'.format(timestamp, litbank.ENTITY_CATEGORIES[k], fold + 1)\n",
    "        assert output_fnames[1] == '{:d}-params.txt'.format(timestamp)\n",
    "        assert output_fnames[2] == '{:d}-results.txt'.format(timestamp)\n",
    "        \n",
    "        with open(os.path.join(bert_output_dir, output_fnames[2])) as fd:\n",
    "            lines = [line.strip('\\n') for line in fd.readlines()]\n",
    "            category_macro_avg[k, :3] += list(map(float, lines[3].split('\\t')[-3:]))\n",
    "            category_macro_avg[k, 3:] += list(map(float, lines[4].split('\\t')[-3:]))\n",
    "category_macro_avg /= 10\n",
    "category_macro_avg"
   ]
  },
  {
   "cell_type": "code",
   "execution_count": 6,
   "id": "1558a43c-4b10-40eb-983e-06916b415098",
   "metadata": {},
   "outputs": [
    {
     "data": {
      "text/plain": [
       "[[0.76567, 0.68018, 0.71919, 0.84411, 0.74934, 0.79256],\n",
       " [0.59951, 0.54821, 0.56854, 0.67854, 0.62086, 0.64369],\n",
       " [0.66571, 0.66259, 0.65619, 0.70137, 0.69772, 0.69122],\n",
       " [0.59377, 0.45606, 0.5099, 0.67981, 0.52539, 0.58592],\n",
       " [0.56376, 0.51128, 0.52709, 0.61123, 0.56079, 0.57507],\n",
       " [0.24473, 0.13346, 0.14351, 0.33524, 0.21111, 0.22154]]"
      ]
     },
     "execution_count": 6,
     "metadata": {},
     "output_type": "execute_result"
    }
   ],
   "source": [
    "old = [[0.76567, 0.68018, 0.71919, 0.84411, 0.74934, 0.79256],\n",
    "       [0.59951, 0.54821, 0.56854, 0.67854, 0.62086, 0.64369],\n",
    "       [0.66571, 0.66259, 0.65619, 0.70137, 0.69772, 0.69122],\n",
    "       [0.59377, 0.45606, 0.5099 , 0.67981, 0.52539, 0.58592],\n",
    "       [0.56376, 0.51128, 0.52709, 0.61123, 0.56079, 0.57507],\n",
    "       [0.24473, 0.13346, 0.14351, 0.33524, 0.21111, 0.22154]]\n",
    "old"
   ]
  },
  {
   "cell_type": "code",
   "execution_count": null,
   "id": "1f52e33e-7c6c-4539-baf7-9791659e82c1",
   "metadata": {},
   "outputs": [],
   "source": []
  }
 ],
 "metadata": {
  "kernelspec": {
   "display_name": "litbank-entities",
   "language": "python",
   "name": "litbank-entities"
  },
  "language_info": {
   "codemirror_mode": {
    "name": "ipython",
    "version": 3
   },
   "file_extension": ".py",
   "mimetype": "text/x-python",
   "name": "python",
   "nbconvert_exporter": "python",
   "pygments_lexer": "ipython3",
   "version": "3.8.0"
  }
 },
 "nbformat": 4,
 "nbformat_minor": 5
}
